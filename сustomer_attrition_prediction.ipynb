{
 "cells": [
  {
   "cell_type": "markdown",
   "metadata": {
    "toc": true
   },
   "source": [
    "<h1>Содержание<span class=\"tocSkip\"></span></h1>\n",
    "<div class=\"toc\"><ul class=\"toc-item\"><li><span><a href=\"#Подготовка-данных\" data-toc-modified-id=\"Подготовка-данных-1\"><span class=\"toc-item-num\">1&nbsp;&nbsp;</span>Подготовка данных</a></span><ul class=\"toc-item\"><li><span><a href=\"#Загрузка-данных\" data-toc-modified-id=\"Загрузка-данных-1.1\"><span class=\"toc-item-num\">1.1&nbsp;&nbsp;</span>Загрузка данных</a></span></li><li><span><a href=\"#Подготовка-признаков-для-обучения-моделей.-Разбиение-данных-на-выборки\" data-toc-modified-id=\"Подготовка-признаков-для-обучения-моделей.-Разбиение-данных-на-выборки-1.2\"><span class=\"toc-item-num\">1.2&nbsp;&nbsp;</span>Подготовка признаков для обучения моделей. Разбиение данных на выборки</a></span></li></ul></li><li><span><a href=\"#Исследование-задачи\" data-toc-modified-id=\"Исследование-задачи-2\"><span class=\"toc-item-num\">2&nbsp;&nbsp;</span>Исследование задачи</a></span><ul class=\"toc-item\"><li><span><a href=\"#Исследование-баланса-классов\" data-toc-modified-id=\"Исследование-баланса-классов-2.1\"><span class=\"toc-item-num\">2.1&nbsp;&nbsp;</span>Исследование баланса классов</a></span></li><li><span><a href=\"#Изучение-моделей-без-учёта-дисбаланса\" data-toc-modified-id=\"Изучение-моделей-без-учёта-дисбаланса-2.2\"><span class=\"toc-item-num\">2.2&nbsp;&nbsp;</span>Изучение моделей без учёта дисбаланса</a></span></li><li><span><a href=\"#Вывод-по-исследованию-моделей-без-учета-дисбаланса:\" data-toc-modified-id=\"Вывод-по-исследованию-моделей-без-учета-дисбаланса:-2.3\"><span class=\"toc-item-num\">2.3&nbsp;&nbsp;</span>Вывод по исследованию моделей без учета дисбаланса:</a></span></li></ul></li><li><span><a href=\"#Борьба-с-дисбалансом\" data-toc-modified-id=\"Борьба-с-дисбалансом-3\"><span class=\"toc-item-num\">3&nbsp;&nbsp;</span>Борьба с дисбалансом</a></span><ul class=\"toc-item\"><li><span><a href=\"#Веса-классов\" data-toc-modified-id=\"Веса-классов-3.1\"><span class=\"toc-item-num\">3.1&nbsp;&nbsp;</span>Веса классов</a></span></li><li><span><a href=\"#Увеличение-выборки.-Upsampling.\" data-toc-modified-id=\"Увеличение-выборки.-Upsampling.-3.2\"><span class=\"toc-item-num\">3.2&nbsp;&nbsp;</span>Увеличение выборки. Upsampling.</a></span></li><li><span><a href=\"#Уменьшение-выборки.-Downsampling.\" data-toc-modified-id=\"Уменьшение-выборки.-Downsampling.-3.3\"><span class=\"toc-item-num\">3.3&nbsp;&nbsp;</span>Уменьшение выборки. Downsampling.</a></span></li><li><span><a href=\"#Выводы-по-использованию-различных-методов-борьбы-с-дисбалансом-классов\" data-toc-modified-id=\"Выводы-по-использованию-различных-методов-борьбы-с-дисбалансом-классов-3.4\"><span class=\"toc-item-num\">3.4&nbsp;&nbsp;</span>Выводы по использованию различных методов борьбы с дисбалансом классов</a></span></li></ul></li><li><span><a href=\"#Тестирование-модели\" data-toc-modified-id=\"Тестирование-модели-4\"><span class=\"toc-item-num\">4&nbsp;&nbsp;</span>Тестирование модели</a></span></li><li><span><a href=\"#Общий-вывод-по-проекту\" data-toc-modified-id=\"Общий-вывод-по-проекту-5\"><span class=\"toc-item-num\">5&nbsp;&nbsp;</span>Общий вывод по проекту</a></span></li></ul></div>"
   ]
  },
  {
   "cell_type": "markdown",
   "metadata": {},
   "source": [
    "# Отток клиентов"
   ]
  },
  {
   "cell_type": "markdown",
   "metadata": {},
   "source": [
    "Из «Бета-Банка» стали уходить клиенты. Каждый месяц. Немного, но заметно. Банковские маркетологи посчитали: сохранять текущих клиентов дешевле, чем привлекать новых.\n",
    "\n",
    "Нужно спрогнозировать, уйдёт клиент из банка в ближайшее время или нет. Нам предоставлены исторические данные о поведении клиентов и расторжении договоров с банком. \n",
    "\n",
    "Источник данных: [https://www.kaggle.com/barelydedicated/bank-customer-churn-modeling](https://www.kaggle.com/barelydedicated/bank-customer-churn-modeling)"
   ]
  },
  {
   "cell_type": "markdown",
   "metadata": {},
   "source": [
    "**План работ**\n",
    "\n",
    "1. Загрузить данные и изучить их.\n",
    "2. Подготовить данные к анализу:\n",
    "    - Удаление незначимых признаков.\n",
    "    - Заполнение пропусков.\n",
    "    - Кодирование категориальных признаков.\n",
    "    - Масштабирование количественных признаков.\n",
    "    - Разделить исходные данные на обучающую, валидационную и тестовую выборки.\n",
    "3. Исследовать баланс классов, обучить модели без учёта дисбаланса. Кратко описать выводы.\n",
    "4. Улучшить качество моделей, учитывая дисбаланс классов, и найти лучшую. Кратко описать выводы исследования.\n",
    "6. Проверить качество лучшей модели на тестовой выборке."
   ]
  },
  {
   "cell_type": "markdown",
   "metadata": {},
   "source": [
    "## Подготовка данных"
   ]
  },
  {
   "cell_type": "code",
   "execution_count": 1,
   "metadata": {},
   "outputs": [],
   "source": [
    "import pandas as pd\n",
    "import matplotlib.pyplot as plt\n",
    "\n",
    "from imblearn.pipeline import make_pipeline\n",
    "from imblearn.over_sampling import SMOTE\n",
    "from imblearn.under_sampling import RandomUnderSampler \n",
    "\n",
    "from sklearn.preprocessing import StandardScaler\n",
    "from sklearn.model_selection import train_test_split, KFold, GridSearchCV\n",
    "from sklearn.utils import shuffle\n",
    "from sklearn.tree import DecisionTreeClassifier\n",
    "from sklearn.ensemble import RandomForestClassifier\n",
    "from sklearn.linear_model import LogisticRegression\n",
    "from sklearn.metrics import f1_score, roc_curve, roc_auc_score, classification_report\n",
    "from sklearn.metrics import confusion_matrix, ConfusionMatrixDisplay"
   ]
  },
  {
   "cell_type": "markdown",
   "metadata": {},
   "source": [
    "### Загрузка данных"
   ]
  },
  {
   "cell_type": "code",
   "execution_count": 2,
   "metadata": {},
   "outputs": [],
   "source": [
    "# загружаем датасет\n",
    "try:\n",
    "    data = pd.read_csv('/datasets/Churn.csv')\n",
    "except:\n",
    "    data = pd.read_csv('https://code.s3.yandex.net/datasets/Churn.csv')"
   ]
  },
  {
   "cell_type": "code",
   "execution_count": 3,
   "metadata": {},
   "outputs": [
    {
     "name": "stdout",
     "output_type": "stream",
     "text": [
      "<class 'pandas.core.frame.DataFrame'>\n",
      "RangeIndex: 10000 entries, 0 to 9999\n",
      "Data columns (total 14 columns):\n",
      " #   Column           Non-Null Count  Dtype  \n",
      "---  ------           --------------  -----  \n",
      " 0   RowNumber        10000 non-null  int64  \n",
      " 1   CustomerId       10000 non-null  int64  \n",
      " 2   Surname          10000 non-null  object \n",
      " 3   CreditScore      10000 non-null  int64  \n",
      " 4   Geography        10000 non-null  object \n",
      " 5   Gender           10000 non-null  object \n",
      " 6   Age              10000 non-null  int64  \n",
      " 7   Tenure           9091 non-null   float64\n",
      " 8   Balance          10000 non-null  float64\n",
      " 9   NumOfProducts    10000 non-null  int64  \n",
      " 10  HasCrCard        10000 non-null  int64  \n",
      " 11  IsActiveMember   10000 non-null  int64  \n",
      " 12  EstimatedSalary  10000 non-null  float64\n",
      " 13  Exited           10000 non-null  int64  \n",
      "dtypes: float64(3), int64(8), object(3)\n",
      "memory usage: 1.1+ MB\n"
     ]
    }
   ],
   "source": [
    "data.info()"
   ]
  },
  {
   "cell_type": "code",
   "execution_count": 4,
   "metadata": {
    "scrolled": true
   },
   "outputs": [
    {
     "data": {
      "text/html": [
       "<div>\n",
       "<style scoped>\n",
       "    .dataframe tbody tr th:only-of-type {\n",
       "        vertical-align: middle;\n",
       "    }\n",
       "\n",
       "    .dataframe tbody tr th {\n",
       "        vertical-align: top;\n",
       "    }\n",
       "\n",
       "    .dataframe thead th {\n",
       "        text-align: right;\n",
       "    }\n",
       "</style>\n",
       "<table border=\"1\" class=\"dataframe\">\n",
       "  <thead>\n",
       "    <tr style=\"text-align: right;\">\n",
       "      <th></th>\n",
       "      <th>RowNumber</th>\n",
       "      <th>CustomerId</th>\n",
       "      <th>Surname</th>\n",
       "      <th>CreditScore</th>\n",
       "      <th>Geography</th>\n",
       "      <th>Gender</th>\n",
       "      <th>Age</th>\n",
       "      <th>Tenure</th>\n",
       "      <th>Balance</th>\n",
       "      <th>NumOfProducts</th>\n",
       "      <th>HasCrCard</th>\n",
       "      <th>IsActiveMember</th>\n",
       "      <th>EstimatedSalary</th>\n",
       "      <th>Exited</th>\n",
       "    </tr>\n",
       "  </thead>\n",
       "  <tbody>\n",
       "    <tr>\n",
       "      <th>0</th>\n",
       "      <td>1</td>\n",
       "      <td>15634602</td>\n",
       "      <td>Hargrave</td>\n",
       "      <td>619</td>\n",
       "      <td>France</td>\n",
       "      <td>Female</td>\n",
       "      <td>42</td>\n",
       "      <td>2.0</td>\n",
       "      <td>0.00</td>\n",
       "      <td>1</td>\n",
       "      <td>1</td>\n",
       "      <td>1</td>\n",
       "      <td>101348.88</td>\n",
       "      <td>1</td>\n",
       "    </tr>\n",
       "    <tr>\n",
       "      <th>1</th>\n",
       "      <td>2</td>\n",
       "      <td>15647311</td>\n",
       "      <td>Hill</td>\n",
       "      <td>608</td>\n",
       "      <td>Spain</td>\n",
       "      <td>Female</td>\n",
       "      <td>41</td>\n",
       "      <td>1.0</td>\n",
       "      <td>83807.86</td>\n",
       "      <td>1</td>\n",
       "      <td>0</td>\n",
       "      <td>1</td>\n",
       "      <td>112542.58</td>\n",
       "      <td>0</td>\n",
       "    </tr>\n",
       "    <tr>\n",
       "      <th>2</th>\n",
       "      <td>3</td>\n",
       "      <td>15619304</td>\n",
       "      <td>Onio</td>\n",
       "      <td>502</td>\n",
       "      <td>France</td>\n",
       "      <td>Female</td>\n",
       "      <td>42</td>\n",
       "      <td>8.0</td>\n",
       "      <td>159660.80</td>\n",
       "      <td>3</td>\n",
       "      <td>1</td>\n",
       "      <td>0</td>\n",
       "      <td>113931.57</td>\n",
       "      <td>1</td>\n",
       "    </tr>\n",
       "    <tr>\n",
       "      <th>3</th>\n",
       "      <td>4</td>\n",
       "      <td>15701354</td>\n",
       "      <td>Boni</td>\n",
       "      <td>699</td>\n",
       "      <td>France</td>\n",
       "      <td>Female</td>\n",
       "      <td>39</td>\n",
       "      <td>1.0</td>\n",
       "      <td>0.00</td>\n",
       "      <td>2</td>\n",
       "      <td>0</td>\n",
       "      <td>0</td>\n",
       "      <td>93826.63</td>\n",
       "      <td>0</td>\n",
       "    </tr>\n",
       "    <tr>\n",
       "      <th>4</th>\n",
       "      <td>5</td>\n",
       "      <td>15737888</td>\n",
       "      <td>Mitchell</td>\n",
       "      <td>850</td>\n",
       "      <td>Spain</td>\n",
       "      <td>Female</td>\n",
       "      <td>43</td>\n",
       "      <td>2.0</td>\n",
       "      <td>125510.82</td>\n",
       "      <td>1</td>\n",
       "      <td>1</td>\n",
       "      <td>1</td>\n",
       "      <td>79084.10</td>\n",
       "      <td>0</td>\n",
       "    </tr>\n",
       "  </tbody>\n",
       "</table>\n",
       "</div>"
      ],
      "text/plain": [
       "   RowNumber  CustomerId   Surname  CreditScore Geography  Gender  Age  \\\n",
       "0          1    15634602  Hargrave          619    France  Female   42   \n",
       "1          2    15647311      Hill          608     Spain  Female   41   \n",
       "2          3    15619304      Onio          502    France  Female   42   \n",
       "3          4    15701354      Boni          699    France  Female   39   \n",
       "4          5    15737888  Mitchell          850     Spain  Female   43   \n",
       "\n",
       "   Tenure    Balance  NumOfProducts  HasCrCard  IsActiveMember  \\\n",
       "0     2.0       0.00              1          1               1   \n",
       "1     1.0   83807.86              1          0               1   \n",
       "2     8.0  159660.80              3          1               0   \n",
       "3     1.0       0.00              2          0               0   \n",
       "4     2.0  125510.82              1          1               1   \n",
       "\n",
       "   EstimatedSalary  Exited  \n",
       "0        101348.88       1  \n",
       "1        112542.58       0  \n",
       "2        113931.57       1  \n",
       "3         93826.63       0  \n",
       "4         79084.10       0  "
      ]
     },
     "execution_count": 4,
     "metadata": {},
     "output_type": "execute_result"
    }
   ],
   "source": [
    "data.head()"
   ]
  },
  {
   "cell_type": "code",
   "execution_count": 5,
   "metadata": {},
   "outputs": [
    {
     "data": {
      "text/plain": [
       "0.2037"
      ]
     },
     "execution_count": 5,
     "metadata": {},
     "output_type": "execute_result"
    }
   ],
   "source": [
    "data['Exited'].mean()  # доля ушедших клиентов банка"
   ]
  },
  {
   "cell_type": "markdown",
   "metadata": {},
   "source": [
    "### Подготовка признаков для обучения моделей. Разбиение данных на выборки"
   ]
  },
  {
   "cell_type": "code",
   "execution_count": 6,
   "metadata": {},
   "outputs": [],
   "source": [
    "# удалим признаки, которые незначимы для обучения, то есть не влияют на целевой признак\n",
    "data = data.drop(['RowNumber', 'CustomerId', 'Surname'], axis=1)"
   ]
  },
  {
   "cell_type": "code",
   "execution_count": 7,
   "metadata": {},
   "outputs": [],
   "source": [
    "# заполним пропуски в столбце \"Tenure\" (сколько лет человек является клиентом банка) медианным значением \n",
    "data['Tenure'] = data['Tenure'].fillna(data['Tenure'].median())"
   ]
  },
  {
   "cell_type": "code",
   "execution_count": 8,
   "metadata": {},
   "outputs": [],
   "source": [
    "# закодируем категориальные признаки методом прямого кодирования (One-Hot Encoding)\n",
    "data = pd.get_dummies(data, drop_first=True, columns=['Geography', 'Gender'])"
   ]
  },
  {
   "cell_type": "code",
   "execution_count": 9,
   "metadata": {},
   "outputs": [],
   "source": [
    "# отделим целевой признак от остальных признаков\n",
    "features = data.drop('Exited', axis=1)\n",
    "target = data['Exited']"
   ]
  },
  {
   "cell_type": "code",
   "execution_count": 10,
   "metadata": {},
   "outputs": [
    {
     "name": "stdout",
     "output_type": "stream",
     "text": [
      "<class 'pandas.core.frame.DataFrame'>\n",
      "RangeIndex: 10000 entries, 0 to 9999\n",
      "Data columns (total 11 columns):\n",
      " #   Column             Non-Null Count  Dtype  \n",
      "---  ------             --------------  -----  \n",
      " 0   CreditScore        10000 non-null  int64  \n",
      " 1   Age                10000 non-null  int64  \n",
      " 2   Tenure             10000 non-null  float64\n",
      " 3   Balance            10000 non-null  float64\n",
      " 4   NumOfProducts      10000 non-null  int64  \n",
      " 5   HasCrCard          10000 non-null  int64  \n",
      " 6   IsActiveMember     10000 non-null  int64  \n",
      " 7   EstimatedSalary    10000 non-null  float64\n",
      " 8   Geography_Germany  10000 non-null  uint8  \n",
      " 9   Geography_Spain    10000 non-null  uint8  \n",
      " 10  Gender_Male        10000 non-null  uint8  \n",
      "dtypes: float64(3), int64(5), uint8(3)\n",
      "memory usage: 654.4 KB\n"
     ]
    }
   ],
   "source": [
    "features.info()  # проверим, что выборка разделена корректно"
   ]
  },
  {
   "cell_type": "code",
   "execution_count": 11,
   "metadata": {},
   "outputs": [
    {
     "data": {
      "text/plain": [
       "0    1\n",
       "1    0\n",
       "2    1\n",
       "3    0\n",
       "4    0\n",
       "Name: Exited, dtype: int64"
      ]
     },
     "execution_count": 11,
     "metadata": {},
     "output_type": "execute_result"
    }
   ],
   "source": [
    "target.head()"
   ]
  },
  {
   "cell_type": "code",
   "execution_count": 12,
   "metadata": {},
   "outputs": [],
   "source": [
    "# разделим данные на обучающую, валидационную и тестовую выборки\n",
    "features_train, features_val_test, target_train, target_val_test = train_test_split(features, target, test_size=0.4, random_state=42, stratify=target)\n",
    "features_valid, features_test, target_valid, target_test = train_test_split(features_val_test, target_val_test, test_size=0.5, random_state=42, stratify=target_val_test)"
   ]
  },
  {
   "cell_type": "code",
   "execution_count": 13,
   "metadata": {},
   "outputs": [
    {
     "data": {
      "text/plain": [
       "(6000, 11)"
      ]
     },
     "metadata": {},
     "output_type": "display_data"
    },
    {
     "data": {
      "text/plain": [
       "(6000,)"
      ]
     },
     "metadata": {},
     "output_type": "display_data"
    },
    {
     "data": {
      "text/plain": [
       "(2000, 11)"
      ]
     },
     "metadata": {},
     "output_type": "display_data"
    },
    {
     "data": {
      "text/plain": [
       "(2000,)"
      ]
     },
     "metadata": {},
     "output_type": "display_data"
    },
    {
     "data": {
      "text/plain": [
       "(2000, 11)"
      ]
     },
     "metadata": {},
     "output_type": "display_data"
    },
    {
     "data": {
      "text/plain": [
       "(2000,)"
      ]
     },
     "metadata": {},
     "output_type": "display_data"
    },
    {
     "data": {
      "text/plain": [
       "0.20366666666666666"
      ]
     },
     "metadata": {},
     "output_type": "display_data"
    }
   ],
   "source": [
    "# проверим размеры выборок, а также то, что изначальное распределение классов сохранилось\n",
    "display(features_train.shape, target_train.shape)\n",
    "display(features_valid.shape, target_valid.shape)\n",
    "display(features_test.shape, target_test.shape)\n",
    "display(target_train.mean())"
   ]
  },
  {
   "cell_type": "code",
   "execution_count": 14,
   "metadata": {},
   "outputs": [],
   "source": [
    "# стандартизируем численные признаки\n",
    "pd.options.mode.chained_assignment = None\n",
    "\n",
    "scaler = StandardScaler()\n",
    "numeric = ['CreditScore', 'Age', 'Tenure', 'Balance', 'NumOfProducts', 'EstimatedSalary']\n",
    "scaler.fit(features_train[numeric])\n",
    "features_train[numeric] = scaler.transform(features_train[numeric])\n",
    "features_valid[numeric] = scaler.transform(features_valid[numeric])\n",
    "features_test[numeric] = scaler.transform(features_test[numeric])"
   ]
  },
  {
   "cell_type": "code",
   "execution_count": 15,
   "metadata": {},
   "outputs": [
    {
     "data": {
      "text/html": [
       "<div>\n",
       "<style scoped>\n",
       "    .dataframe tbody tr th:only-of-type {\n",
       "        vertical-align: middle;\n",
       "    }\n",
       "\n",
       "    .dataframe tbody tr th {\n",
       "        vertical-align: top;\n",
       "    }\n",
       "\n",
       "    .dataframe thead th {\n",
       "        text-align: right;\n",
       "    }\n",
       "</style>\n",
       "<table border=\"1\" class=\"dataframe\">\n",
       "  <thead>\n",
       "    <tr style=\"text-align: right;\">\n",
       "      <th></th>\n",
       "      <th>CreditScore</th>\n",
       "      <th>Age</th>\n",
       "      <th>Tenure</th>\n",
       "      <th>Balance</th>\n",
       "      <th>NumOfProducts</th>\n",
       "      <th>HasCrCard</th>\n",
       "      <th>IsActiveMember</th>\n",
       "      <th>EstimatedSalary</th>\n",
       "      <th>Geography_Germany</th>\n",
       "      <th>Geography_Spain</th>\n",
       "      <th>Gender_Male</th>\n",
       "    </tr>\n",
       "  </thead>\n",
       "  <tbody>\n",
       "    <tr>\n",
       "      <th>6851</th>\n",
       "      <td>-1.283897</td>\n",
       "      <td>0.008566</td>\n",
       "      <td>1.449637</td>\n",
       "      <td>0.330105</td>\n",
       "      <td>0.783996</td>\n",
       "      <td>1</td>\n",
       "      <td>0</td>\n",
       "      <td>-0.084061</td>\n",
       "      <td>1</td>\n",
       "      <td>0</td>\n",
       "      <td>0</td>\n",
       "    </tr>\n",
       "    <tr>\n",
       "      <th>7026</th>\n",
       "      <td>0.271537</td>\n",
       "      <td>-1.139895</td>\n",
       "      <td>-0.001572</td>\n",
       "      <td>-1.220584</td>\n",
       "      <td>0.783996</td>\n",
       "      <td>0</td>\n",
       "      <td>1</td>\n",
       "      <td>0.264021</td>\n",
       "      <td>0</td>\n",
       "      <td>0</td>\n",
       "      <td>0</td>\n",
       "    </tr>\n",
       "    <tr>\n",
       "      <th>5705</th>\n",
       "      <td>-0.236571</td>\n",
       "      <td>0.104271</td>\n",
       "      <td>-0.001572</td>\n",
       "      <td>1.692794</td>\n",
       "      <td>0.783996</td>\n",
       "      <td>1</td>\n",
       "      <td>1</td>\n",
       "      <td>0.515344</td>\n",
       "      <td>1</td>\n",
       "      <td>0</td>\n",
       "      <td>1</td>\n",
       "    </tr>\n",
       "    <tr>\n",
       "      <th>9058</th>\n",
       "      <td>-1.874962</td>\n",
       "      <td>0.869911</td>\n",
       "      <td>-0.001572</td>\n",
       "      <td>1.032566</td>\n",
       "      <td>-0.919109</td>\n",
       "      <td>1</td>\n",
       "      <td>1</td>\n",
       "      <td>0.303842</td>\n",
       "      <td>0</td>\n",
       "      <td>1</td>\n",
       "      <td>0</td>\n",
       "    </tr>\n",
       "    <tr>\n",
       "      <th>9415</th>\n",
       "      <td>1.215167</td>\n",
       "      <td>0.391386</td>\n",
       "      <td>-1.089979</td>\n",
       "      <td>0.851257</td>\n",
       "      <td>0.783996</td>\n",
       "      <td>0</td>\n",
       "      <td>0</td>\n",
       "      <td>-1.400817</td>\n",
       "      <td>1</td>\n",
       "      <td>0</td>\n",
       "      <td>0</td>\n",
       "    </tr>\n",
       "  </tbody>\n",
       "</table>\n",
       "</div>"
      ],
      "text/plain": [
       "      CreditScore       Age    Tenure   Balance  NumOfProducts  HasCrCard  \\\n",
       "6851    -1.283897  0.008566  1.449637  0.330105       0.783996          1   \n",
       "7026     0.271537 -1.139895 -0.001572 -1.220584       0.783996          0   \n",
       "5705    -0.236571  0.104271 -0.001572  1.692794       0.783996          1   \n",
       "9058    -1.874962  0.869911 -0.001572  1.032566      -0.919109          1   \n",
       "9415     1.215167  0.391386 -1.089979  0.851257       0.783996          0   \n",
       "\n",
       "      IsActiveMember  EstimatedSalary  Geography_Germany  Geography_Spain  \\\n",
       "6851               0        -0.084061                  1                0   \n",
       "7026               1         0.264021                  0                0   \n",
       "5705               1         0.515344                  1                0   \n",
       "9058               1         0.303842                  0                1   \n",
       "9415               0        -1.400817                  1                0   \n",
       "\n",
       "      Gender_Male  \n",
       "6851            0  \n",
       "7026            0  \n",
       "5705            1  \n",
       "9058            0  \n",
       "9415            0  "
      ]
     },
     "execution_count": 15,
     "metadata": {},
     "output_type": "execute_result"
    }
   ],
   "source": [
    "features_train.head() # проверяем, что все изменения произведены корректно"
   ]
  },
  {
   "cell_type": "markdown",
   "metadata": {},
   "source": [
    "## Исследование задачи"
   ]
  },
  {
   "cell_type": "markdown",
   "metadata": {},
   "source": [
    "### Исследование баланса классов"
   ]
  },
  {
   "cell_type": "code",
   "execution_count": 16,
   "metadata": {
    "scrolled": false
   },
   "outputs": [
    {
     "data": {
      "text/plain": [
       "0    7963\n",
       "1    2037\n",
       "Name: Exited, dtype: int64"
      ]
     },
     "execution_count": 16,
     "metadata": {},
     "output_type": "execute_result"
    }
   ],
   "source": [
    "data['Exited'].value_counts()  # оценим сбалансированность данных"
   ]
  },
  {
   "cell_type": "code",
   "execution_count": 17,
   "metadata": {},
   "outputs": [
    {
     "data": {
      "image/png": "[encoded data removed]",
      "text/plain": [
       "<Figure size 432x288 with 1 Axes>"
      ]
     },
     "metadata": {
      "needs_background": "light"
     },
     "output_type": "display_data"
    }
   ],
   "source": [
    "data['Exited'].value_counts().plot(kind='bar')\n",
    "plt.title(\"Распределение оставшихся (0) и ушедших (1) клиентов\")\n",
    "plt.ylabel(\"кол-во чел-к\")\n",
    "plt.show()"
   ]
  },
  {
   "cell_type": "code",
   "execution_count": 18,
   "metadata": {},
   "outputs": [
    {
     "data": {
      "text/plain": [
       "0.2037"
      ]
     },
     "execution_count": 18,
     "metadata": {},
     "output_type": "execute_result"
    }
   ],
   "source": [
    "data['Exited'].mean()  # доля ушедших клиентов банка"
   ]
  },
  {
   "cell_type": "markdown",
   "metadata": {},
   "source": [
    "**Присутствует явная несбалансированность классов в данных**: количество оставшихся клиентов более чем в 3 раза превышается количество ушедших (ушедшие клиенты составляют только 20 процентов всей выборки)."
   ]
  },
  {
   "cell_type": "markdown",
   "metadata": {},
   "source": [
    "### Изучение моделей без учёта дисбаланса"
   ]
  },
  {
   "cell_type": "markdown",
   "metadata": {},
   "source": [
    "**Дерево решиний**"
   ]
  },
  {
   "cell_type": "code",
   "execution_count": 19,
   "metadata": {},
   "outputs": [],
   "source": [
    "best_model_tree = None\n",
    "best_result_tree = 0\n",
    "best_depth_tree = 0\n",
    "for depth in range(1, 10):\n",
    "    # инициализация модели с заданной максимальной глубиной дерева\n",
    "    model = DecisionTreeClassifier(random_state=42, max_depth=depth)\n",
    "    model.fit(features_train, target_train) # обучение модели\n",
    "    predicted_valid = model.predict(features_valid)\n",
    "    result = f1_score(target_valid, predicted_valid) # качество модели на валидационной выборке\n",
    "    if result > best_result_tree:\n",
    "        best_model_tree = model\n",
    "        best_result_tree = result\n",
    "        best_depth_tree = depth"
   ]
  },
  {
   "cell_type": "code",
   "execution_count": 20,
   "metadata": {
    "scrolled": true
   },
   "outputs": [
    {
     "data": {
      "text/plain": [
       "0.5918367346938777"
      ]
     },
     "metadata": {},
     "output_type": "display_data"
    },
    {
     "data": {
      "text/plain": [
       "8"
      ]
     },
     "metadata": {},
     "output_type": "display_data"
    }
   ],
   "source": [
    "display(best_result_tree) # лучший результат f1-score модели\n",
    "display(best_depth_tree) # глубина дерева у лучшей модели"
   ]
  },
  {
   "cell_type": "code",
   "execution_count": 21,
   "metadata": {},
   "outputs": [
    {
     "data": {
      "image/png": "[encoded data removed]",
      "text/plain": [
       "<Figure size 432x288 with 2 Axes>"
      ]
     },
     "metadata": {
      "needs_background": "light"
     },
     "output_type": "display_data"
    }
   ],
   "source": [
    "# матрица ошибок для дерева решений\n",
    "cm = confusion_matrix(target_valid, best_model_tree.predict(features_valid))\n",
    "disp = ConfusionMatrixDisplay(cm, display_labels=['stay', 'left']).plot()"
   ]
  },
  {
   "cell_type": "code",
   "execution_count": 22,
   "metadata": {},
   "outputs": [
    {
     "data": {
      "image/png": "[encoded data removed]",
      "text/plain": [
       "<Figure size 432x288 with 1 Axes>"
      ]
     },
     "metadata": {
      "needs_background": "light"
     },
     "output_type": "display_data"
    }
   ],
   "source": [
    "# ROC-кривая для дерева решений\n",
    "probabilities_valid = best_model_tree.predict_proba(features_valid)\n",
    "\n",
    "fpr_tree, tpr_tree, thresholds_tree = roc_curve(target_valid, probabilities_valid[:, 1]) \n",
    "\n",
    "plt.figure()\n",
    "plt.plot(fpr_tree, tpr_tree)\n",
    "plt.plot([0, 1], [0, 1], linestyle='--')\n",
    "plt.xlim([0.0, 1.0]) \n",
    "plt.ylim([0.0, 1.0])\n",
    "plt.xlabel(\"False Positive Rate\") \n",
    "plt.ylabel(\"True Positive Rate\")\n",
    "plt.title(\"ROC-кривая дерева решений\")\n",
    "plt.show()"
   ]
  },
  {
   "cell_type": "code",
   "execution_count": 23,
   "metadata": {},
   "outputs": [
    {
     "data": {
      "text/plain": [
       "0.8245162700758696"
      ]
     },
     "execution_count": 23,
     "metadata": {},
     "output_type": "execute_result"
    }
   ],
   "source": [
    "roc_auc_score(target_valid, probabilities_valid[:, 1])"
   ]
  },
  {
   "cell_type": "markdown",
   "metadata": {},
   "source": [
    "**Выводы:**\n",
    "- На несбалансированной выборке дерево решений дает лучший результат (f1_score = 0.59) при максимальной глубине дерева равной 8.\n",
    "- На матрице ошибок видно, что модель ошибается в предсказании положительного класса (клиент ушел из банка) примерно в 50% случаев, то есть ложноотрицательных ответов 50%.\n",
    "- Значение AUC-ROC для данной модели равно 0.82, что является достаточно неплохим результатом."
   ]
  },
  {
   "cell_type": "markdown",
   "metadata": {},
   "source": [
    "**Случайный лес**"
   ]
  },
  {
   "cell_type": "code",
   "execution_count": 24,
   "metadata": {},
   "outputs": [],
   "source": [
    "# объединенная выборка из train и validation\n",
    "features_train_val = pd.concat([features_train, features_valid], ignore_index=True)\n",
    "target_train_val = pd.concat([target_train, target_valid], ignore_index=True)"
   ]
  },
  {
   "cell_type": "code",
   "execution_count": 25,
   "metadata": {},
   "outputs": [
    {
     "name": "stdout",
     "output_type": "stream",
     "text": [
      "<class 'pandas.core.frame.DataFrame'>\n",
      "RangeIndex: 8000 entries, 0 to 7999\n",
      "Data columns (total 11 columns):\n",
      " #   Column             Non-Null Count  Dtype  \n",
      "---  ------             --------------  -----  \n",
      " 0   CreditScore        8000 non-null   float64\n",
      " 1   Age                8000 non-null   float64\n",
      " 2   Tenure             8000 non-null   float64\n",
      " 3   Balance            8000 non-null   float64\n",
      " 4   NumOfProducts      8000 non-null   float64\n",
      " 5   HasCrCard          8000 non-null   int64  \n",
      " 6   IsActiveMember     8000 non-null   int64  \n",
      " 7   EstimatedSalary    8000 non-null   float64\n",
      " 8   Geography_Germany  8000 non-null   uint8  \n",
      " 9   Geography_Spain    8000 non-null   uint8  \n",
      " 10  Gender_Male        8000 non-null   uint8  \n",
      "dtypes: float64(6), int64(2), uint8(3)\n",
      "memory usage: 523.6 KB\n"
     ]
    }
   ],
   "source": [
    "features_train_val.info()"
   ]
  },
  {
   "cell_type": "code",
   "execution_count": 26,
   "metadata": {
    "scrolled": true
   },
   "outputs": [
    {
     "data": {
      "text/html": [
       "<div>\n",
       "<style scoped>\n",
       "    .dataframe tbody tr th:only-of-type {\n",
       "        vertical-align: middle;\n",
       "    }\n",
       "\n",
       "    .dataframe tbody tr th {\n",
       "        vertical-align: top;\n",
       "    }\n",
       "\n",
       "    .dataframe thead th {\n",
       "        text-align: right;\n",
       "    }\n",
       "</style>\n",
       "<table border=\"1\" class=\"dataframe\">\n",
       "  <thead>\n",
       "    <tr style=\"text-align: right;\">\n",
       "      <th></th>\n",
       "      <th>CreditScore</th>\n",
       "      <th>Age</th>\n",
       "      <th>Tenure</th>\n",
       "      <th>Balance</th>\n",
       "      <th>NumOfProducts</th>\n",
       "      <th>HasCrCard</th>\n",
       "      <th>IsActiveMember</th>\n",
       "      <th>EstimatedSalary</th>\n",
       "      <th>Geography_Germany</th>\n",
       "      <th>Geography_Spain</th>\n",
       "      <th>Gender_Male</th>\n",
       "    </tr>\n",
       "  </thead>\n",
       "  <tbody>\n",
       "    <tr>\n",
       "      <th>0</th>\n",
       "      <td>-1.283897</td>\n",
       "      <td>0.008566</td>\n",
       "      <td>1.449637</td>\n",
       "      <td>0.330105</td>\n",
       "      <td>0.783996</td>\n",
       "      <td>1</td>\n",
       "      <td>0</td>\n",
       "      <td>-0.084061</td>\n",
       "      <td>1</td>\n",
       "      <td>0</td>\n",
       "      <td>0</td>\n",
       "    </tr>\n",
       "    <tr>\n",
       "      <th>1</th>\n",
       "      <td>0.271537</td>\n",
       "      <td>-1.139895</td>\n",
       "      <td>-0.001572</td>\n",
       "      <td>-1.220584</td>\n",
       "      <td>0.783996</td>\n",
       "      <td>0</td>\n",
       "      <td>1</td>\n",
       "      <td>0.264021</td>\n",
       "      <td>0</td>\n",
       "      <td>0</td>\n",
       "      <td>0</td>\n",
       "    </tr>\n",
       "    <tr>\n",
       "      <th>2</th>\n",
       "      <td>-0.236571</td>\n",
       "      <td>0.104271</td>\n",
       "      <td>-0.001572</td>\n",
       "      <td>1.692794</td>\n",
       "      <td>0.783996</td>\n",
       "      <td>1</td>\n",
       "      <td>1</td>\n",
       "      <td>0.515344</td>\n",
       "      <td>1</td>\n",
       "      <td>0</td>\n",
       "      <td>1</td>\n",
       "    </tr>\n",
       "    <tr>\n",
       "      <th>3</th>\n",
       "      <td>-1.874962</td>\n",
       "      <td>0.869911</td>\n",
       "      <td>-0.001572</td>\n",
       "      <td>1.032566</td>\n",
       "      <td>-0.919109</td>\n",
       "      <td>1</td>\n",
       "      <td>1</td>\n",
       "      <td>0.303842</td>\n",
       "      <td>0</td>\n",
       "      <td>1</td>\n",
       "      <td>0</td>\n",
       "    </tr>\n",
       "    <tr>\n",
       "      <th>4</th>\n",
       "      <td>1.215167</td>\n",
       "      <td>0.391386</td>\n",
       "      <td>-1.089979</td>\n",
       "      <td>0.851257</td>\n",
       "      <td>0.783996</td>\n",
       "      <td>0</td>\n",
       "      <td>0</td>\n",
       "      <td>-1.400817</td>\n",
       "      <td>1</td>\n",
       "      <td>0</td>\n",
       "      <td>0</td>\n",
       "    </tr>\n",
       "  </tbody>\n",
       "</table>\n",
       "</div>"
      ],
      "text/plain": [
       "   CreditScore       Age    Tenure   Balance  NumOfProducts  HasCrCard  \\\n",
       "0    -1.283897  0.008566  1.449637  0.330105       0.783996          1   \n",
       "1     0.271537 -1.139895 -0.001572 -1.220584       0.783996          0   \n",
       "2    -0.236571  0.104271 -0.001572  1.692794       0.783996          1   \n",
       "3    -1.874962  0.869911 -0.001572  1.032566      -0.919109          1   \n",
       "4     1.215167  0.391386 -1.089979  0.851257       0.783996          0   \n",
       "\n",
       "   IsActiveMember  EstimatedSalary  Geography_Germany  Geography_Spain  \\\n",
       "0               0        -0.084061                  1                0   \n",
       "1               1         0.264021                  0                0   \n",
       "2               1         0.515344                  1                0   \n",
       "3               1         0.303842                  0                1   \n",
       "4               0        -1.400817                  1                0   \n",
       "\n",
       "   Gender_Male  \n",
       "0            0  \n",
       "1            0  \n",
       "2            1  \n",
       "3            0  \n",
       "4            0  "
      ]
     },
     "execution_count": 26,
     "metadata": {},
     "output_type": "execute_result"
    }
   ],
   "source": [
    "features_train_val.head()"
   ]
  },
  {
   "cell_type": "code",
   "execution_count": 27,
   "metadata": {},
   "outputs": [
    {
     "name": "stdout",
     "output_type": "stream",
     "text": [
      "Fitting 5 folds for each of 108 candidates, totalling 540 fits\n",
      "CPU times: user 3min 14s, sys: 2 s, total: 3min 16s\n",
      "Wall time: 3min 17s\n"
     ]
    }
   ],
   "source": [
    "%%time\n",
    "\n",
    "parametrs = { 'n_estimators': range(20, 101, 10),\n",
    "              'max_depth': range(1, 13) }\n",
    "\n",
    "model = RandomForestClassifier(random_state=42)\n",
    "# подбор лучших параметров модели\n",
    "grid = GridSearchCV(model, parametrs, scoring='f1', verbose=1)\n",
    "grid.fit(features_train_val, target_train_val)\n",
    "\n",
    "best_model_forest = grid.best_estimator_\n",
    "best_parametrs_forest = grid.best_params_\n",
    "best_result_forest = grid.best_score_"
   ]
  },
  {
   "cell_type": "code",
   "execution_count": 28,
   "metadata": {},
   "outputs": [
    {
     "data": {
      "text/plain": [
       "0.5787688881402255"
      ]
     },
     "metadata": {},
     "output_type": "display_data"
    },
    {
     "data": {
      "text/plain": [
       "{'max_depth': 12, 'n_estimators': 80}"
      ]
     },
     "metadata": {},
     "output_type": "display_data"
    }
   ],
   "source": [
    "display(best_result_forest) # лучший результат f1-score модели\n",
    "display(best_parametrs_forest) # лучшие параметры модели"
   ]
  },
  {
   "cell_type": "code",
   "execution_count": 29,
   "metadata": {},
   "outputs": [
    {
     "data": {
      "image/png": "[encoded data removed]",
      "text/plain": [
       "<Figure size 432x288 with 2 Axes>"
      ]
     },
     "metadata": {
      "needs_background": "light"
     },
     "output_type": "display_data"
    }
   ],
   "source": [
    "# матрица ошибок для случайного леса\n",
    "cm = confusion_matrix(target_valid, predicted_valid)\n",
    "disp = ConfusionMatrixDisplay(cm, display_labels=['stay', 'left']).plot()"
   ]
  },
  {
   "cell_type": "markdown",
   "metadata": {},
   "source": [
    "**Выводы:**\n",
    "- На несбалансированной выборке модель случайного леса дает лучший результат (f1_score = 0.58) при следующих гиперпараметрах: максимальная глубина дерева – 12 и количество деревьев – 80.\n",
    "- На матрице ошибок видно, что модель ошибается в предсказании положительного класса (клиент ушел из банка) примерно в 50% случаев, то есть ложноотрицательных ответов 50%"
   ]
  },
  {
   "cell_type": "markdown",
   "metadata": {},
   "source": [
    "**Логистическая регрессия**"
   ]
  },
  {
   "cell_type": "code",
   "execution_count": 30,
   "metadata": {},
   "outputs": [],
   "source": [
    "best_model_log_reg = None\n",
    "best_result_log_reg = 0\n",
    "best_iter_log_reg = 0\n",
    "for i in range (1000, 3001, 100):\n",
    "    # инициализация модели с заданным максимальным количеством итераций\n",
    "    model = LogisticRegression(random_state=42, solver='liblinear', max_iter=i)\n",
    "    model.fit(features_train, target_train) # обучение модели\n",
    "    predicted_valid = model.predict(features_valid)\n",
    "    result = f1_score(target_valid, predicted_valid) # качество модели на валидационной выборке\n",
    "    if result > best_result_log_reg:\n",
    "        best_model_log_reg = model\n",
    "        best_result_log_reg = result\n",
    "        best_iter_log_reg = i"
   ]
  },
  {
   "cell_type": "code",
   "execution_count": 31,
   "metadata": {},
   "outputs": [
    {
     "data": {
      "text/plain": [
       "0.32792792792792796"
      ]
     },
     "metadata": {},
     "output_type": "display_data"
    },
    {
     "data": {
      "text/plain": [
       "1000"
      ]
     },
     "metadata": {},
     "output_type": "display_data"
    }
   ],
   "source": [
    "display(best_result_log_reg) # лучший результат f1-score модели\n",
    "display(best_iter_log_reg) # количество интераций"
   ]
  },
  {
   "cell_type": "code",
   "execution_count": 32,
   "metadata": {},
   "outputs": [
    {
     "data": {
      "image/png": "[encoded data removed]",
      "text/plain": [
       "<Figure size 432x288 with 2 Axes>"
      ]
     },
     "metadata": {
      "needs_background": "light"
     },
     "output_type": "display_data"
    }
   ],
   "source": [
    "# матрица ошибок для логистической регрессии\n",
    "cm = confusion_matrix(target_valid, best_model_log_reg.predict(features_valid))\n",
    "disp = ConfusionMatrixDisplay(cm, display_labels=['stay', 'left']).plot()"
   ]
  },
  {
   "cell_type": "code",
   "execution_count": 33,
   "metadata": {},
   "outputs": [
    {
     "data": {
      "image/png": "[encoded data removed]",
      "text/plain": [
       "<Figure size 432x288 with 1 Axes>"
      ]
     },
     "metadata": {
      "needs_background": "light"
     },
     "output_type": "display_data"
    }
   ],
   "source": [
    "# ROC-кривая для логистической регрессии\n",
    "probabilities_valid = best_model_log_reg.predict_proba(features_valid)\n",
    "\n",
    "fpr_log_reg, tpr_log_reg, thresholds_log_reg = roc_curve(target_valid, probabilities_valid[:, 1]) \n",
    "\n",
    "plt.figure()\n",
    "plt.plot(fpr_log_reg, tpr_log_reg)\n",
    "plt.plot([0, 1], [0, 1], linestyle='--')\n",
    "plt.xlim([0.0, 1.0]) \n",
    "plt.ylim([0.0, 1.0])\n",
    "plt.xlabel(\"False Positive Rate\") \n",
    "plt.ylabel(\"True Positive Rate\")\n",
    "plt.title(\"ROC-кривая логистической регрессии\")\n",
    "plt.show()"
   ]
  },
  {
   "cell_type": "code",
   "execution_count": 34,
   "metadata": {},
   "outputs": [
    {
     "data": {
      "text/plain": [
       "0.7908014336387822"
      ]
     },
     "execution_count": 34,
     "metadata": {},
     "output_type": "execute_result"
    }
   ],
   "source": [
    "roc_auc_score(target_valid, probabilities_valid[:, 1])"
   ]
  },
  {
   "cell_type": "markdown",
   "metadata": {},
   "source": [
    "**Выводы:**\n",
    "- На несбалансированной выборке модель логистической регрессии дает лучший результат (f1_score = 0.33) при 1000 итераций.\n",
    "- На матрице ошибок видно, что модель ошибается в предсказании положительного класса (клиент ушел из банка) более чем в 75% случаев, то есть ложноотрицательных ответов примерно 78%\n",
    "- Значение AUC-ROC для данной модели равно 0.79, что является средним результатом.\n",
    "- Скорее всего модель логистической регрессии плохо справляется с данной задачей, т.к. связи между целевым и остальными признаками более сложные и нелинейные."
   ]
  },
  {
   "cell_type": "markdown",
   "metadata": {},
   "source": [
    "### Вывод по исследованию моделей без учета дисбаланса:"
   ]
  },
  {
   "cell_type": "markdown",
   "metadata": {},
   "source": [
    "По результатам исследования можно сказать, что **лучшие результаты показывает модель дерева решений**. На несбалансированной выборке удалось получить значение метрики f1-score равное 0.59, что уже является достаточно хорошим результатом. Тем не менее данная модель ошибается в предсказании положительного класса (клиент ушел из банка) примерно в 50% случаев.\n",
    "\n",
    "**Модель случайного леса показывает близкие результаты**. На несбалансированной выборке удалось получить значение метрики f1-score равное 0.58.\n",
    "\n",
    "Можно попробовать улучшить данный результат поработав с балансом классов."
   ]
  },
  {
   "cell_type": "markdown",
   "metadata": {},
   "source": [
    "## Борьба с дисбалансом"
   ]
  },
  {
   "cell_type": "markdown",
   "metadata": {},
   "source": [
    "Попробуем несколько подходов к борьбе с дисбалансом."
   ]
  },
  {
   "cell_type": "code",
   "execution_count": 35,
   "metadata": {},
   "outputs": [],
   "source": [
    "f1_score_diff_methods = pd.DataFrame(index=['DecisionTree', 'RandomForest', 'LogisticRegression'], \n",
    "                                     columns=['Class_weight', 'Upsampling', 'Downsampling'])"
   ]
  },
  {
   "cell_type": "markdown",
   "metadata": {},
   "source": [
    "### Веса классов"
   ]
  },
  {
   "cell_type": "markdown",
   "metadata": {},
   "source": [
    "**Дерево решиний**"
   ]
  },
  {
   "cell_type": "code",
   "execution_count": 36,
   "metadata": {},
   "outputs": [],
   "source": [
    "best_model_tree = None\n",
    "best_result_tree = 0\n",
    "best_depth_tree = 0\n",
    "for depth in range(1, 10):\n",
    "    # инициализация модели с заданной максимальной глубиной дерева\n",
    "    model = DecisionTreeClassifier(random_state=42, max_depth=depth, class_weight='balanced')\n",
    "    model.fit(features_train, target_train) # обучение модели\n",
    "    predicted_valid = model.predict(features_valid)\n",
    "    result = f1_score(target_valid, predicted_valid) # качество модели на валидационной выборке\n",
    "    if result > best_result_tree:\n",
    "        best_model_tree = model\n",
    "        best_result_tree = result\n",
    "        best_depth_tree = depth"
   ]
  },
  {
   "cell_type": "code",
   "execution_count": 37,
   "metadata": {
    "scrolled": true
   },
   "outputs": [
    {
     "data": {
      "text/plain": [
       "0.5754141238012207"
      ]
     },
     "metadata": {},
     "output_type": "display_data"
    },
    {
     "data": {
      "text/plain": [
       "6"
      ]
     },
     "metadata": {},
     "output_type": "display_data"
    }
   ],
   "source": [
    "display(best_result_tree) # лучший результат f1-score модели\n",
    "display(best_depth_tree) # глубина дерева у лучшей модели\n",
    "f1_score_diff_methods.loc['DecisionTree', 'Class_weight'] = best_result_tree"
   ]
  },
  {
   "cell_type": "code",
   "execution_count": 38,
   "metadata": {},
   "outputs": [
    {
     "data": {
      "image/png": "[encoded data removed]",
      "text/plain": [
       "<Figure size 432x288 with 2 Axes>"
      ]
     },
     "metadata": {
      "needs_background": "light"
     },
     "output_type": "display_data"
    }
   ],
   "source": [
    "# матрица ошибок для дерева решений\n",
    "cm = confusion_matrix(target_valid, best_model_tree.predict(features_valid))\n",
    "disp = ConfusionMatrixDisplay(cm, display_labels=['stay', 'left']).plot()"
   ]
  },
  {
   "cell_type": "code",
   "execution_count": 39,
   "metadata": {},
   "outputs": [
    {
     "data": {
      "image/png": "[encoded data removed]",
      "text/plain": [
       "<Figure size 432x288 with 1 Axes>"
      ]
     },
     "metadata": {
      "needs_background": "light"
     },
     "output_type": "display_data"
    }
   ],
   "source": [
    "# ROC-кривая для дерева решений\n",
    "probabilities_valid = best_model_tree.predict_proba(features_valid)\n",
    "\n",
    "fpr_tree, tpr_tree, thresholds_tree = roc_curve(target_valid, probabilities_valid[:, 1]) \n",
    "\n",
    "plt.figure()\n",
    "plt.plot(fpr_tree, tpr_tree)\n",
    "plt.plot([0, 1], [0, 1], linestyle='--')\n",
    "plt.xlim([0.0, 1.0]) \n",
    "plt.ylim([0.0, 1.0])\n",
    "plt.xlabel(\"False Positive Rate\") \n",
    "plt.ylabel(\"True Positive Rate\")\n",
    "plt.title(\"ROC-кривая дерева решений\")\n",
    "plt.show()"
   ]
  },
  {
   "cell_type": "code",
   "execution_count": 40,
   "metadata": {},
   "outputs": [
    {
     "data": {
      "text/plain": [
       "0.8457929968469801"
      ]
     },
     "execution_count": 40,
     "metadata": {},
     "output_type": "execute_result"
    }
   ],
   "source": [
    "roc_auc_score(target_valid, probabilities_valid[:, 1])"
   ]
  },
  {
   "cell_type": "markdown",
   "metadata": {},
   "source": [
    "**Выводы:**\n",
    "- После применения метода взвешивания классов лучший результат f1_score дерева решений снизился до 0.58 при максимальной глубине дерева равной 6.\n",
    "- Однако на матрице ошибок видно, что модель ошибается в предсказании положительного класса (клиент ушел из банка) лишь примерно в 19% случаев. Это значительное улучшение результата по сравнению с несбалансированной выборкой, при которой модель выдавала ложноотрицательные ответы в 50% случаев.\n",
    "- Модель стала хуже распознавать нулевой класс (клиент остался в банке).\n",
    "- Значение AUC-ROC для данной модели равно 0.85, что является улучшением результата."
   ]
  },
  {
   "cell_type": "markdown",
   "metadata": {},
   "source": [
    "**Случайный лес**"
   ]
  },
  {
   "cell_type": "code",
   "execution_count": 41,
   "metadata": {},
   "outputs": [
    {
     "name": "stdout",
     "output_type": "stream",
     "text": [
      "Fitting 5 folds for each of 84 candidates, totalling 420 fits\n",
      "CPU times: user 3min 3s, sys: 2.58 s, total: 3min 5s\n",
      "Wall time: 3min 15s\n"
     ]
    }
   ],
   "source": [
    "%%time\n",
    "\n",
    "parametrs = { 'n_estimators': range(40, 101, 10),\n",
    "              'max_depth': range(1, 13) }\n",
    "\n",
    "model = RandomForestClassifier(random_state=42, class_weight='balanced')\n",
    "# подбор лучших параметров модели\n",
    "grid = GridSearchCV(model, parametrs, scoring='f1', verbose=1)\n",
    "grid.fit(features_train_val, target_train_val)\n",
    "\n",
    "best_model_forest = grid.best_estimator_\n",
    "best_parametrs_forest = grid.best_params_\n",
    "best_result_forest = grid.best_score_"
   ]
  },
  {
   "cell_type": "code",
   "execution_count": 42,
   "metadata": {},
   "outputs": [
    {
     "data": {
      "text/plain": [
       "0.6205088122226959"
      ]
     },
     "metadata": {},
     "output_type": "display_data"
    },
    {
     "data": {
      "text/plain": [
       "{'max_depth': 10, 'n_estimators': 90}"
      ]
     },
     "metadata": {},
     "output_type": "display_data"
    }
   ],
   "source": [
    "display(best_result_forest) # лучший результат f1-score модели\n",
    "display(best_parametrs_forest) # лучшие параметры модели\n",
    "f1_score_diff_methods.loc['RandomForest', 'Class_weight'] = best_result_forest"
   ]
  },
  {
   "cell_type": "code",
   "execution_count": 43,
   "metadata": {},
   "outputs": [
    {
     "data": {
      "image/png": "[encoded data removed]",
      "text/plain": [
       "<Figure size 432x288 with 2 Axes>"
      ]
     },
     "metadata": {
      "needs_background": "light"
     },
     "output_type": "display_data"
    }
   ],
   "source": [
    "# матрица ошибок для случайного леса\n",
    "cm = confusion_matrix(target_valid, predicted_valid)\n",
    "disp = ConfusionMatrixDisplay(cm, display_labels=['stay', 'left']).plot()"
   ]
  },
  {
   "cell_type": "markdown",
   "metadata": {},
   "source": [
    "**Выводы:**\n",
    "- После применения метода взвешивания классов лучший результат f1_score случайного леса вырос до 0.62 при следующих гиперпараметрах: максимальная глубина дерева – 10 и количество деревьев – 90.\n",
    "- На матрице ошибок видно, что модель ошибается в предсказании положительного класса (клиент ушел из банка) всего в 28% случаев. Это значительное улучшение результата по сравнению с несбалансированной выборкой, при которой модель выдавала ложноотрицательные ответы в 50% случаев.\n",
    "- Модель стала чуть хуже распознавать нулевой класс (клиент остался в банке)."
   ]
  },
  {
   "cell_type": "markdown",
   "metadata": {},
   "source": [
    "**Логистическая регрессия**"
   ]
  },
  {
   "cell_type": "code",
   "execution_count": 44,
   "metadata": {},
   "outputs": [],
   "source": [
    "best_model_log_reg = None\n",
    "best_result_log_reg = 0\n",
    "best_iter_log_reg = 0\n",
    "for i in range (1000, 3001, 100):\n",
    "    # инициализация модели с заданным максимальным количеством итераций\n",
    "    model = LogisticRegression(random_state=42, solver='liblinear', max_iter=i, class_weight='balanced')\n",
    "    model.fit(features_train, target_train) # обучение модели\n",
    "    predicted_valid = model.predict(features_valid)\n",
    "    result = f1_score(target_valid, predicted_valid) # качество модели на валидационной выборке\n",
    "    if result > best_result_log_reg:\n",
    "        best_model_log_reg = model\n",
    "        best_result_log_reg = result\n",
    "        best_iter_log_reg = i"
   ]
  },
  {
   "cell_type": "code",
   "execution_count": 45,
   "metadata": {},
   "outputs": [
    {
     "data": {
      "text/plain": [
       "0.5196581196581197"
      ]
     },
     "metadata": {},
     "output_type": "display_data"
    },
    {
     "data": {
      "text/plain": [
       "1000"
      ]
     },
     "metadata": {},
     "output_type": "display_data"
    }
   ],
   "source": [
    "display(best_result_log_reg) # лучший результат f1-score модели\n",
    "display(best_iter_log_reg) # количество интераций\n",
    "f1_score_diff_methods.loc['LogisticRegression', 'Class_weight'] = best_result_log_reg"
   ]
  },
  {
   "cell_type": "code",
   "execution_count": 46,
   "metadata": {},
   "outputs": [
    {
     "data": {
      "image/png": "[encoded data removed]",
      "text/plain": [
       "<Figure size 432x288 with 2 Axes>"
      ]
     },
     "metadata": {
      "needs_background": "light"
     },
     "output_type": "display_data"
    }
   ],
   "source": [
    "# матрица ошибок для логистической регрессии\n",
    "cm = confusion_matrix(target_valid, best_model_log_reg.predict(features_valid))\n",
    "disp = ConfusionMatrixDisplay(cm, display_labels=['stay', 'left']).plot()"
   ]
  },
  {
   "cell_type": "code",
   "execution_count": 47,
   "metadata": {},
   "outputs": [
    {
     "data": {
      "image/png": "[encoded data removed]",
      "text/plain": [
       "<Figure size 432x288 with 1 Axes>"
      ]
     },
     "metadata": {
      "needs_background": "light"
     },
     "output_type": "display_data"
    }
   ],
   "source": [
    "# ROC-кривая для логистической регрессии\n",
    "probabilities_valid = best_model_log_reg.predict_proba(features_valid)\n",
    "\n",
    "fpr_log_reg, tpr_log_reg, thresholds_log_reg = roc_curve(target_valid, probabilities_valid[:, 1]) \n",
    "\n",
    "plt.figure()\n",
    "plt.plot(fpr_log_reg, tpr_log_reg)\n",
    "plt.plot([0, 1], [0, 1], linestyle='--')\n",
    "plt.xlim([0.0, 1.0]) \n",
    "plt.ylim([0.0, 1.0])\n",
    "plt.xlabel(\"False Positive Rate\") \n",
    "plt.ylabel(\"True Positive Rate\")\n",
    "plt.title(\"ROC-кривая логистической регрессии\")\n",
    "plt.show()"
   ]
  },
  {
   "cell_type": "code",
   "execution_count": 48,
   "metadata": {},
   "outputs": [
    {
     "data": {
      "text/plain": [
       "0.7938174327519953"
      ]
     },
     "execution_count": 48,
     "metadata": {},
     "output_type": "execute_result"
    }
   ],
   "source": [
    "roc_auc_score(target_valid, probabilities_valid[:, 1])"
   ]
  },
  {
   "cell_type": "markdown",
   "metadata": {},
   "source": [
    "**Выводы:**\n",
    "- После применения метода взвешивания классов лучший результат f1_score логистической регрессии вырос до 0.52 при 1000 итераций. \n",
    "- На матрице ошибок видно, что модель ошибается в предсказании положительного класса (клиент ушел из банка) в 25% случаев. Это очень значительное улучшение результата по сравнению с несбалансированной выборкой, при которой модель выдавала ложноотрицательные ответы в 78% случаев.\n",
    "- Как и две предыдущие, эта модель стала хуже распознавать нулевой класс (клиент остался в банке).\n",
    "- Значение AUC-ROC для данной модели по-прежнему равно 0.79. Произошло увеличение лишь на 0.3%.\n",
    "- Видно, что взвешивание классов достаточно положительно повлияло на качество логистической регрессии."
   ]
  },
  {
   "cell_type": "markdown",
   "metadata": {},
   "source": [
    "**Выводы по исследованию моделей с применением взвешивания классов:**\n",
    "\n",
    "- По результатам исследования можно сказать, что **лучшие результаты по-прежнему показывает модель случайного леса**. Удалось получить значение метрики f1-score равное 0.62, что является очень хорошим результатом. Данная модель ошибается в предсказании положительного класса (клиент ушел из банка) в 28% случаев. \n",
    "- В целом, взвешивание классов повысило качество распознания у положительного класса и понизило у отрицательного у всех моделей. Это вполне ожидаемо, т.к. модель теперь \"больше внимания уделяет\" положительному классу. \n",
    "- В отличии от моделей дерева решений и логистической регрессией, случайный лес не так сильно снизил качество распознания нулевого класса.\n",
    "- Значение f1-score очень сильно возросло у логистической регрессии. "
   ]
  },
  {
   "cell_type": "markdown",
   "metadata": {},
   "source": [
    "### Увеличение выборки. Upsampling."
   ]
  },
  {
   "cell_type": "code",
   "execution_count": 49,
   "metadata": {},
   "outputs": [],
   "source": [
    "# функция для увеличения выборки\n",
    "def upsample(features, target, repeat):\n",
    "    features_zeros = features[target == 0]\n",
    "    features_ones = features[target == 1]\n",
    "    target_zeros = target[target == 0]\n",
    "    target_ones = target[target == 1]\n",
    "\n",
    "    features_upsampled = pd.concat([features_zeros] + [features_ones] * repeat)\n",
    "    target_upsampled = pd.concat([target_zeros] + [target_ones] * repeat)\n",
    "    \n",
    "    features_upsampled, target_upsampled = shuffle(\n",
    "        features_upsampled, target_upsampled, random_state=42)\n",
    "    \n",
    "    return features_upsampled, target_upsampled"
   ]
  },
  {
   "cell_type": "code",
   "execution_count": 50,
   "metadata": {},
   "outputs": [],
   "source": [
    "# подготовим выборки; repeat = 4, т.к нулевого класса примерно в 4 раза больше, чем положительного\n",
    "features_upsampled_train, target_upsampled_train = upsample(features_train, target_train, 4)"
   ]
  },
  {
   "cell_type": "code",
   "execution_count": 51,
   "metadata": {
    "scrolled": true
   },
   "outputs": [
    {
     "data": {
      "text/plain": [
       "1    4888\n",
       "0    4778\n",
       "Name: Exited, dtype: int64"
      ]
     },
     "metadata": {},
     "output_type": "display_data"
    }
   ],
   "source": [
    "# проверяем, как уравнялись классы\n",
    "display(target_upsampled_train.value_counts())"
   ]
  },
  {
   "cell_type": "markdown",
   "metadata": {},
   "source": [
    "**Дерево решиний**"
   ]
  },
  {
   "cell_type": "code",
   "execution_count": 52,
   "metadata": {},
   "outputs": [],
   "source": [
    "best_model_tree = None\n",
    "best_result_tree = 0\n",
    "best_depth_tree = 0\n",
    "for depth in range(1, 10):\n",
    "    # инициализация модели с заданной максимальной глубиной дерева\n",
    "    model = DecisionTreeClassifier(random_state=42, max_depth=depth)\n",
    "    model.fit(features_upsampled_train, target_upsampled_train) # обучение модели\n",
    "    predicted_valid = model.predict(features_valid)\n",
    "    result = f1_score(target_valid, predicted_valid) # качество модели на валидационной выборке\n",
    "    if result > best_result_tree:\n",
    "        best_model_tree = model\n",
    "        best_result_tree = result\n",
    "        best_depth_tree = depth"
   ]
  },
  {
   "cell_type": "code",
   "execution_count": 53,
   "metadata": {
    "scrolled": true
   },
   "outputs": [
    {
     "data": {
      "text/plain": [
       "0.5749128919860628"
      ]
     },
     "metadata": {},
     "output_type": "display_data"
    },
    {
     "data": {
      "text/plain": [
       "6"
      ]
     },
     "metadata": {},
     "output_type": "display_data"
    }
   ],
   "source": [
    "display(best_result_tree) # лучший результат f1-score модели\n",
    "display(best_depth_tree) # глубина дерева у лучшей модели\n",
    "f1_score_diff_methods.loc['DecisionTree', 'Upsampling'] = best_result_tree"
   ]
  },
  {
   "cell_type": "code",
   "execution_count": 54,
   "metadata": {
    "scrolled": true
   },
   "outputs": [
    {
     "data": {
      "image/png": "[encoded data removed]",
      "text/plain": [
       "<Figure size 432x288 with 2 Axes>"
      ]
     },
     "metadata": {
      "needs_background": "light"
     },
     "output_type": "display_data"
    }
   ],
   "source": [
    "# матрица ошибок для дерева решений\n",
    "cm = confusion_matrix(target_valid, best_model_tree.predict(features_valid))\n",
    "disp = ConfusionMatrixDisplay(cm, display_labels=['stay', 'left']).plot()"
   ]
  },
  {
   "cell_type": "code",
   "execution_count": 55,
   "metadata": {},
   "outputs": [
    {
     "data": {
      "image/png": "[encoded data removed]",
      "text/plain": [
       "<Figure size 432x288 with 1 Axes>"
      ]
     },
     "metadata": {
      "needs_background": "light"
     },
     "output_type": "display_data"
    }
   ],
   "source": [
    "# ROC-кривая для дерева решений\n",
    "probabilities_valid = best_model_tree.predict_proba(features_valid)\n",
    "\n",
    "fpr_tree, tpr_tree, thresholds_tree = roc_curve(target_valid, probabilities_valid[:, 1]) \n",
    "\n",
    "plt.figure()\n",
    "plt.plot(fpr_tree, tpr_tree)\n",
    "plt.plot([0, 1], [0, 1], linestyle='--')\n",
    "plt.xlim([0.0, 1.0]) \n",
    "plt.ylim([0.0, 1.0])\n",
    "plt.xlabel(\"False Positive Rate\") \n",
    "plt.ylabel(\"True Positive Rate\")\n",
    "plt.title(\"ROC-кривая дерева решений\")\n",
    "plt.show()"
   ]
  },
  {
   "cell_type": "code",
   "execution_count": 56,
   "metadata": {},
   "outputs": [
    {
     "data": {
      "text/plain": [
       "0.8451871797714059"
      ]
     },
     "execution_count": 56,
     "metadata": {},
     "output_type": "execute_result"
    }
   ],
   "source": [
    "roc_auc_score(target_valid, probabilities_valid[:, 1])"
   ]
  },
  {
   "cell_type": "markdown",
   "metadata": {},
   "source": [
    "**Выводы:**\n",
    "- После применения метода upsampling лучший результат f1_score дерева решений равен 0.57 при максимальной глубине дерева равной 6.\n",
    "- На матрице ошибок видно, что модель ошибается в предсказании положительного класса (клиент ушел из банка) лишь примерно в 19% случаев, то есть ложноотрицательных ответов 19%\n",
    "- Значение AUC-ROC для данной модели равно 0.85.\n",
    "- Upsampling для дерева решений дает примерно идентичные взвешиванию классов результаты."
   ]
  },
  {
   "cell_type": "markdown",
   "metadata": {},
   "source": [
    "**Случайный лес**"
   ]
  },
  {
   "cell_type": "code",
   "execution_count": 57,
   "metadata": {},
   "outputs": [
    {
     "name": "stdout",
     "output_type": "stream",
     "text": [
      "Fitting 5 folds for each of 108 candidates, totalling 540 fits\n",
      "CPU times: user 7min 33s, sys: 7.05 s, total: 7min 40s\n",
      "Wall time: 7min 44s\n"
     ]
    }
   ],
   "source": [
    "%%time\n",
    "\n",
    "parametrs = { 'n_estimators': range(40, 121, 10),\n",
    "              'max_depth': range(1, 13) }\n",
    "imba_pipeline = make_pipeline(SMOTE(random_state=42), \n",
    "                              RandomForestClassifier(random_state=42))\n",
    "# подбор лучших параметров модели\n",
    "new_params = {'randomforestclassifier__' + key: parametrs[key] for key in parametrs}\n",
    "grid = GridSearchCV(imba_pipeline, param_grid=new_params, scoring='f1', verbose=1)\n",
    "grid.fit(features_train_val, target_train_val)\n",
    "\n",
    "\n",
    "best_model_forest = grid.best_estimator_\n",
    "best_parametrs_forest = grid.best_params_\n",
    "best_result_forest = grid.best_score_"
   ]
  },
  {
   "cell_type": "code",
   "execution_count": 58,
   "metadata": {},
   "outputs": [
    {
     "data": {
      "text/plain": [
       "0.6109441275290841"
      ]
     },
     "metadata": {},
     "output_type": "display_data"
    },
    {
     "data": {
      "text/plain": [
       "{'randomforestclassifier__max_depth': 12,\n",
       " 'randomforestclassifier__n_estimators': 100}"
      ]
     },
     "metadata": {},
     "output_type": "display_data"
    }
   ],
   "source": [
    "display(best_result_forest) # лучший результат f1-score модели\n",
    "display(best_parametrs_forest) # лучшие параметры модели\n",
    "f1_score_diff_methods.loc['RandomForest', 'Upsampling'] = best_result_forest"
   ]
  },
  {
   "cell_type": "code",
   "execution_count": 59,
   "metadata": {},
   "outputs": [
    {
     "data": {
      "image/png": "[encoded data removed]",
      "text/plain": [
       "<Figure size 432x288 with 2 Axes>"
      ]
     },
     "metadata": {
      "needs_background": "light"
     },
     "output_type": "display_data"
    }
   ],
   "source": [
    "# матрица ошибок для случайного леса\n",
    "cm = confusion_matrix(target_valid, predicted_valid)\n",
    "disp = ConfusionMatrixDisplay(cm, display_labels=['stay', 'left']).plot()"
   ]
  },
  {
   "cell_type": "markdown",
   "metadata": {},
   "source": [
    "**Выводы:**\n",
    "- После применения метода upsampling лучший результат f1_score случайного леса снизился до 0.61 при следующих гиперпараметрах: максимальная глубина дерева – 12 и количество деревьев – 100. При взвешивании классов результат был 0.62, соответственно.\n",
    "- Однако на матрице ошибок видно, что модель так же распознает положительный класс, как и при взвешивании.\n",
    "- Модель стала еще хуже распознавать нулевой класс (клиент остался в банке). Ложноположительных ответов стало еще больше, чем при взвешивании классов."
   ]
  },
  {
   "cell_type": "markdown",
   "metadata": {},
   "source": [
    "**Логистическая регрессия**"
   ]
  },
  {
   "cell_type": "code",
   "execution_count": 60,
   "metadata": {},
   "outputs": [],
   "source": [
    "best_model_log_reg = None\n",
    "best_result_log_reg = 0\n",
    "best_iter_log_reg = 0\n",
    "for i in range (1000, 3001, 100):\n",
    "    # инициализация модели с заданным максимальным количеством итераций\n",
    "    model = LogisticRegression(random_state=42, solver='liblinear', max_iter=i)\n",
    "    model.fit(features_upsampled_train, target_upsampled_train) # обучение модели\n",
    "    predicted_valid = model.predict(features_valid)\n",
    "    result = f1_score(target_valid, predicted_valid) # качество модели на валидационной выборке\n",
    "    if result > best_result_log_reg:\n",
    "        best_model_log_reg = model\n",
    "        best_result_log_reg = result\n",
    "        best_iter_log_reg = i"
   ]
  },
  {
   "cell_type": "code",
   "execution_count": 61,
   "metadata": {},
   "outputs": [
    {
     "data": {
      "text/plain": [
       "0.5206402695871947"
      ]
     },
     "metadata": {},
     "output_type": "display_data"
    },
    {
     "data": {
      "text/plain": [
       "1000"
      ]
     },
     "metadata": {},
     "output_type": "display_data"
    }
   ],
   "source": [
    "display(best_result_log_reg) # лучший результат f1-score модели\n",
    "display(best_iter_log_reg) # количество интераций\n",
    "f1_score_diff_methods.loc['LogisticRegression', 'Upsampling'] = best_result_log_reg"
   ]
  },
  {
   "cell_type": "code",
   "execution_count": 62,
   "metadata": {},
   "outputs": [
    {
     "data": {
      "image/png": "[encoded data removed]",
      "text/plain": [
       "<Figure size 432x288 with 2 Axes>"
      ]
     },
     "metadata": {
      "needs_background": "light"
     },
     "output_type": "display_data"
    }
   ],
   "source": [
    "# матрица ошибок для логистической регрессии\n",
    "cm = confusion_matrix(target_valid, best_model_log_reg.predict(features_valid))\n",
    "disp = ConfusionMatrixDisplay(cm, display_labels=['stay', 'left']).plot()"
   ]
  },
  {
   "cell_type": "code",
   "execution_count": 63,
   "metadata": {},
   "outputs": [
    {
     "data": {
      "image/png": "[encoded data removed]",
      "text/plain": [
       "<Figure size 432x288 with 1 Axes>"
      ]
     },
     "metadata": {
      "needs_background": "light"
     },
     "output_type": "display_data"
    }
   ],
   "source": [
    "# ROC-кривая для логистической регрессии\n",
    "probabilities_valid = best_model_log_reg.predict_proba(features_valid)\n",
    "\n",
    "fpr_log_reg, tpr_log_reg, thresholds_log_reg = roc_curve(target_valid, probabilities_valid[:, 1]) \n",
    "\n",
    "plt.figure()\n",
    "plt.plot(fpr_log_reg, tpr_log_reg)\n",
    "plt.plot([0, 1], [0, 1], linestyle='--')\n",
    "plt.xlim([0.0, 1.0]) \n",
    "plt.ylim([0.0, 1.0])\n",
    "plt.xlabel(\"False Positive Rate\") \n",
    "plt.ylabel(\"True Positive Rate\")\n",
    "plt.title(\"ROC-кривая логистической регрессии\")\n",
    "plt.show()"
   ]
  },
  {
   "cell_type": "code",
   "execution_count": 64,
   "metadata": {},
   "outputs": [
    {
     "data": {
      "text/plain": [
       "0.7938420657207607"
      ]
     },
     "execution_count": 64,
     "metadata": {},
     "output_type": "execute_result"
    }
   ],
   "source": [
    "roc_auc_score(target_valid, probabilities_valid[:, 1])"
   ]
  },
  {
   "cell_type": "markdown",
   "metadata": {},
   "source": [
    "**Выводы:**\n",
    "- После применения метода upsampling лучший результат f1_score логистической регрессии равен 0.52 при 1000 итераций.\n",
    "- На матрице ошибок видно, что модель ошибается в предсказании положительного класса (клиент ушел из банка) в 24% случаев. При взвешивании классов ложноотрицательных ответов было 25%, соответственно\n",
    "- Значение AUC-ROC для данной модели по-прежнему равно 0.79.\n",
    "- Upsampling для логистической регрессии дает примерно идентичные взвешиванию классов результаты."
   ]
  },
  {
   "cell_type": "markdown",
   "metadata": {},
   "source": [
    "**Выводы по исследованию моделей с применением метода upsampling:**\n",
    "\n",
    "- По результатам исследования можно сказать, что **лучшие результаты по-прежнему показывает модель случайного леса**. Удалось получить значение метрики f1-score равное 0.61, что является очень хорошим результатом.\n",
    "- В целом, техника upsampling лишь слегка повысила или не изменила качество распознания у положительного класса и еще больше понизила у отрицательного у всех моделей по сравнению с взвешиванием классов.\n",
    "- Метрики у всех моделей остались почти идентичными тем, что были при использовании весов классов."
   ]
  },
  {
   "cell_type": "markdown",
   "metadata": {},
   "source": [
    "### Уменьшение выборки. Downsampling."
   ]
  },
  {
   "cell_type": "code",
   "execution_count": 65,
   "metadata": {},
   "outputs": [],
   "source": [
    "# функция для уменьшение выборки\n",
    "def downsample(features, target, fraction):\n",
    "    features_zeros = features[target == 0]\n",
    "    features_ones = features[target == 1]\n",
    "    target_zeros = target[target == 0]\n",
    "    target_ones = target[target == 1]\n",
    "\n",
    "    features_downsampled = pd.concat(\n",
    "        [features_zeros.sample(frac=fraction, random_state=42)] + [features_ones])\n",
    "    target_downsampled = pd.concat(\n",
    "        [target_zeros.sample(frac=fraction, random_state=42)] + [target_ones])\n",
    "    \n",
    "    features_downsampled, target_downsampled = shuffle(\n",
    "        features_downsampled, target_downsampled, random_state=42)\n",
    "    \n",
    "    return features_downsampled, target_downsampled"
   ]
  },
  {
   "cell_type": "code",
   "execution_count": 66,
   "metadata": {},
   "outputs": [],
   "source": [
    "# подготовим выборки; fraction = 0.25, т.к нулевого класса примерно в 4 раза больше, чем положительного\n",
    "features_downsampled_train, target_downsampled_train = downsample(features_train, target_train, 0.25)"
   ]
  },
  {
   "cell_type": "code",
   "execution_count": 67,
   "metadata": {
    "scrolled": false
   },
   "outputs": [
    {
     "data": {
      "text/plain": [
       "1    1222\n",
       "0    1194\n",
       "Name: Exited, dtype: int64"
      ]
     },
     "metadata": {},
     "output_type": "display_data"
    }
   ],
   "source": [
    "# проверяем, как уравнялись классы\n",
    "display(target_downsampled_train.value_counts())"
   ]
  },
  {
   "cell_type": "markdown",
   "metadata": {},
   "source": [
    "**Дерево решиний**"
   ]
  },
  {
   "cell_type": "code",
   "execution_count": 68,
   "metadata": {},
   "outputs": [],
   "source": [
    "best_model_tree = None\n",
    "best_result_tree = 0\n",
    "best_depth_tree = 0\n",
    "for depth in range(1, 10):\n",
    "    # инициализация модели с заданной максимальной глубиной дерева\n",
    "    model = DecisionTreeClassifier(random_state=42, max_depth=depth)\n",
    "    model.fit(features_downsampled_train, target_downsampled_train) # обучение модели\n",
    "    predicted_valid = model.predict(features_valid)\n",
    "    result = f1_score(target_valid, predicted_valid) # качество модели на валидационной выборке\n",
    "    if result > best_result_tree:\n",
    "        best_model_tree = model\n",
    "        best_result_tree = result\n",
    "        best_depth_tree = depth"
   ]
  },
  {
   "cell_type": "code",
   "execution_count": 69,
   "metadata": {
    "scrolled": true
   },
   "outputs": [
    {
     "data": {
      "text/plain": [
       "0.5827937095282146"
      ]
     },
     "metadata": {},
     "output_type": "display_data"
    },
    {
     "data": {
      "text/plain": [
       "6"
      ]
     },
     "metadata": {},
     "output_type": "display_data"
    }
   ],
   "source": [
    "display(best_result_tree) # лучший результат f1-score модели\n",
    "display(best_depth_tree) # глубина дерева у лучшей модели\n",
    "f1_score_diff_methods.loc['DecisionTree', 'Downsampling'] = best_result_tree"
   ]
  },
  {
   "cell_type": "code",
   "execution_count": 70,
   "metadata": {},
   "outputs": [
    {
     "data": {
      "image/png": "[encoded data removed]",
      "text/plain": [
       "<Figure size 432x288 with 2 Axes>"
      ]
     },
     "metadata": {
      "needs_background": "light"
     },
     "output_type": "display_data"
    }
   ],
   "source": [
    "# матрица ошибок для дерева решений\n",
    "cm = confusion_matrix(target_valid, best_model_tree.predict(features_valid))\n",
    "disp = ConfusionMatrixDisplay(cm, display_labels=['stay', 'left']).plot()"
   ]
  },
  {
   "cell_type": "code",
   "execution_count": 71,
   "metadata": {},
   "outputs": [
    {
     "data": {
      "image/png": "[encoded data removed]",
      "text/plain": [
       "<Figure size 432x288 with 1 Axes>"
      ]
     },
     "metadata": {
      "needs_background": "light"
     },
     "output_type": "display_data"
    }
   ],
   "source": [
    "# ROC-кривая для дерева решений\n",
    "probabilities_valid = best_model_tree.predict_proba(features_valid)\n",
    "\n",
    "fpr_tree, tpr_tree, thresholds_tree = roc_curve(target_valid, probabilities_valid[:, 1]) \n",
    "\n",
    "plt.figure()\n",
    "plt.plot(fpr_tree, tpr_tree)\n",
    "plt.plot([0, 1], [0, 1], linestyle='--')\n",
    "plt.xlim([0.0, 1.0]) \n",
    "plt.ylim([0.0, 1.0])\n",
    "plt.xlabel(\"False Positive Rate\") \n",
    "plt.ylabel(\"True Positive Rate\")\n",
    "plt.title(\"ROC-кривая дерева решений\")\n",
    "plt.show()"
   ]
  },
  {
   "cell_type": "code",
   "execution_count": 72,
   "metadata": {},
   "outputs": [
    {
     "data": {
      "text/plain": [
       "0.834046919647256"
      ]
     },
     "execution_count": 72,
     "metadata": {},
     "output_type": "execute_result"
    }
   ],
   "source": [
    "roc_auc_score(target_valid, probabilities_valid[:, 1])"
   ]
  },
  {
   "cell_type": "markdown",
   "metadata": {},
   "source": [
    "**Выводы:**\n",
    "- После применения метода downsampling лучший результат f1_score дерева решений равен 0.58 при максимальной глубине дерева равной 6.\n",
    "- На матрице ошибок видно, что модель ошибается в предсказании положительного класса (клиент ушел из банка) лишь примерно в 23% случаев, то есть ложноотрицательных ответов 23%\n",
    "- Модель дает меньше ложноположительных ответов, чем при технике upsampling.\n",
    "- Значение AUC-ROC для данной модели равно 0.83."
   ]
  },
  {
   "cell_type": "markdown",
   "metadata": {},
   "source": [
    "**Случайный лес**"
   ]
  },
  {
   "cell_type": "code",
   "execution_count": 73,
   "metadata": {},
   "outputs": [
    {
     "name": "stdout",
     "output_type": "stream",
     "text": [
      "Fitting 5 folds for each of 132 candidates, totalling 660 fits\n",
      "CPU times: user 4min 52s, sys: 3.94 s, total: 4min 56s\n",
      "Wall time: 4min 58s\n"
     ]
    }
   ],
   "source": [
    "%%time\n",
    "\n",
    "parametrs = { 'n_estimators': range(60, 161, 10),\n",
    "              'max_depth': range(1, 13) }\n",
    "imba_pipeline = make_pipeline(RandomUnderSampler(random_state=42), \n",
    "                              RandomForestClassifier(random_state=42))\n",
    "# подбор лучших параметров модели\n",
    "new_params = {'randomforestclassifier__' + key: parametrs[key] for key in parametrs}\n",
    "grid = GridSearchCV(imba_pipeline, param_grid=new_params, scoring='f1', verbose=1)\n",
    "grid.fit(features_train_val, target_train_val)\n",
    "\n",
    "\n",
    "best_model_forest = grid.best_estimator_\n",
    "best_parametrs_forest = grid.best_params_\n",
    "best_result_forest = grid.best_score_"
   ]
  },
  {
   "cell_type": "code",
   "execution_count": 74,
   "metadata": {},
   "outputs": [
    {
     "data": {
      "text/plain": [
       "0.5993784589719997"
      ]
     },
     "metadata": {},
     "output_type": "display_data"
    },
    {
     "data": {
      "text/plain": [
       "{'randomforestclassifier__max_depth': 9,\n",
       " 'randomforestclassifier__n_estimators': 140}"
      ]
     },
     "metadata": {},
     "output_type": "display_data"
    }
   ],
   "source": [
    "display(best_result_forest) # лучший результат f1-score модели\n",
    "display(best_parametrs_forest) # лучшие параметры модели\n",
    "f1_score_diff_methods.loc['RandomForest', 'Downsampling'] = best_result_forest"
   ]
  },
  {
   "cell_type": "code",
   "execution_count": 75,
   "metadata": {},
   "outputs": [
    {
     "data": {
      "image/png": "[encoded data removed]",
      "text/plain": [
       "<Figure size 432x288 with 2 Axes>"
      ]
     },
     "metadata": {
      "needs_background": "light"
     },
     "output_type": "display_data"
    }
   ],
   "source": [
    "# матрица ошибок для случайного леса\n",
    "cm = confusion_matrix(target_valid, predicted_valid)\n",
    "disp = ConfusionMatrixDisplay(cm, display_labels=['stay', 'left']).plot()"
   ]
  },
  {
   "cell_type": "markdown",
   "metadata": {},
   "source": [
    "**Выводы:**\n",
    "- После применения метода downsampling лучший результат f1_score случайного леса упал до 0.60 при следующих гиперпараметрах: максимальная глубина дерева – 9 и количество деревьев – 140. При взвешивании классов результат был 0.62, а при технике upsampling – 0.61.\n",
    "- На матрице ошибок видно, что модель дает 24% ложноотрицательных ответов. При взвешивании классов и при технике upsampling таких ответов было 28%.\n",
    "- Однако модель стала давать еще больше ложноположительных ответов."
   ]
  },
  {
   "cell_type": "markdown",
   "metadata": {},
   "source": [
    "**Логистическая регрессия**"
   ]
  },
  {
   "cell_type": "code",
   "execution_count": 76,
   "metadata": {},
   "outputs": [],
   "source": [
    "best_model_log_reg = None\n",
    "best_result_log_reg = 0\n",
    "best_iter_log_reg = 0\n",
    "for i in range (1000, 3001, 100):\n",
    "    # инициализация модели с заданным максимальным количеством итераций\n",
    "    model = LogisticRegression(random_state=42, solver='liblinear', max_iter=i)\n",
    "    model.fit(features_downsampled_train, target_downsampled_train) # обучение модели\n",
    "    predicted_valid = model.predict(features_valid)\n",
    "    result = f1_score(target_valid, predicted_valid) # качество модели на валидационной выборке\n",
    "    if result > best_result_log_reg:\n",
    "        best_model_log_reg = model\n",
    "        best_result_log_reg = result\n",
    "        best_iter_log_reg = i"
   ]
  },
  {
   "cell_type": "code",
   "execution_count": 77,
   "metadata": {},
   "outputs": [
    {
     "data": {
      "text/plain": [
       "0.5234113712374583"
      ]
     },
     "metadata": {},
     "output_type": "display_data"
    },
    {
     "data": {
      "text/plain": [
       "1000"
      ]
     },
     "metadata": {},
     "output_type": "display_data"
    }
   ],
   "source": [
    "display(best_result_log_reg) # лучший результат f1-score модели\n",
    "display(best_iter_log_reg) # количество интераций\n",
    "f1_score_diff_methods.loc['LogisticRegression', 'Downsampling'] = best_result_log_reg"
   ]
  },
  {
   "cell_type": "code",
   "execution_count": 78,
   "metadata": {},
   "outputs": [
    {
     "data": {
      "image/png": "[encoded data removed]",
      "text/plain": [
       "<Figure size 432x288 with 2 Axes>"
      ]
     },
     "metadata": {
      "needs_background": "light"
     },
     "output_type": "display_data"
    }
   ],
   "source": [
    "# матрица ошибок для логистической регрессии\n",
    "cm = confusion_matrix(target_valid, best_model_log_reg.predict(features_valid))\n",
    "disp = ConfusionMatrixDisplay(cm, display_labels=['stay', 'left']).plot()"
   ]
  },
  {
   "cell_type": "code",
   "execution_count": 79,
   "metadata": {},
   "outputs": [
    {
     "data": {
      "image/png": "[encoded data removed]",
      "text/plain": [
       "<Figure size 432x288 with 1 Axes>"
      ]
     },
     "metadata": {
      "needs_background": "light"
     },
     "output_type": "display_data"
    }
   ],
   "source": [
    "# ROC-кривая для логистической регрессии\n",
    "probabilities_valid = best_model_log_reg.predict_proba(features_valid)\n",
    "\n",
    "fpr_log_reg, tpr_log_reg, thresholds_log_reg = roc_curve(target_valid, probabilities_valid[:, 1]) \n",
    "\n",
    "plt.figure()\n",
    "plt.plot(fpr_log_reg, tpr_log_reg)\n",
    "plt.plot([0, 1], [0, 1], linestyle='--')\n",
    "plt.xlim([0.0, 1.0]) \n",
    "plt.ylim([0.0, 1.0])\n",
    "plt.xlabel(\"False Positive Rate\") \n",
    "plt.ylabel(\"True Positive Rate\")\n",
    "plt.title(\"ROC-кривая логистической регрессии\")\n",
    "plt.show()"
   ]
  },
  {
   "cell_type": "code",
   "execution_count": 80,
   "metadata": {
    "scrolled": true
   },
   "outputs": [
    {
     "data": {
      "text/plain": [
       "0.7940345107892403"
      ]
     },
     "execution_count": 80,
     "metadata": {},
     "output_type": "execute_result"
    }
   ],
   "source": [
    "roc_auc_score(target_valid, probabilities_valid[:, 1])"
   ]
  },
  {
   "cell_type": "markdown",
   "metadata": {},
   "source": [
    "**Выводы:**\n",
    "- После применения метода downsampling лучший результат f1_score логистической регрессии равен 0.52 при 1000 итераций.\n",
    "- На матрице ошибок видно, что модель ошибается в предсказании положительного класса (клиент ушел из банка) в 23% случаев. При взвешивании классов ложноотрицательных ответов было 25%, а при технике upsampling – 24%.\n",
    "- Значение AUC-ROC для данной модели по-прежнему равно 0.79.\n",
    "- Downsampling для логистической регрессии дает примерно идентичные взвешиванию классов и технике upsampling результаты."
   ]
  },
  {
   "cell_type": "markdown",
   "metadata": {},
   "source": [
    "**Выводы по исследованию моделей с применением метода downsampling:**\n",
    "\n",
    "- По результатам исследования можно сказать, что **лучшие результаты по-прежнему показывает модель случайного леса**. Однако значение метрики f1-score получилось даже меньше, чем при несбалансированной выборке. Оно равно 0.67. Данная модель ошибается в предсказании положительного класса (клиент ушел из банка) примерно в 12% случаев. \n",
    "- В целом, техника downsampling либо почти не изменяет, либо дает метрики хуже, чем были при использовании весов классов и техники upsampling."
   ]
  },
  {
   "cell_type": "markdown",
   "metadata": {},
   "source": [
    "### Выводы по использованию различных методов борьбы с дисбалансом классов"
   ]
  },
  {
   "cell_type": "code",
   "execution_count": 81,
   "metadata": {},
   "outputs": [
    {
     "data": {
      "text/html": [
       "<div>\n",
       "<style scoped>\n",
       "    .dataframe tbody tr th:only-of-type {\n",
       "        vertical-align: middle;\n",
       "    }\n",
       "\n",
       "    .dataframe tbody tr th {\n",
       "        vertical-align: top;\n",
       "    }\n",
       "\n",
       "    .dataframe thead th {\n",
       "        text-align: right;\n",
       "    }\n",
       "</style>\n",
       "<table border=\"1\" class=\"dataframe\">\n",
       "  <thead>\n",
       "    <tr style=\"text-align: right;\">\n",
       "      <th></th>\n",
       "      <th>Class_weight</th>\n",
       "      <th>Upsampling</th>\n",
       "      <th>Downsampling</th>\n",
       "    </tr>\n",
       "  </thead>\n",
       "  <tbody>\n",
       "    <tr>\n",
       "      <th>DecisionTree</th>\n",
       "      <td>0.58</td>\n",
       "      <td>0.57</td>\n",
       "      <td>0.58</td>\n",
       "    </tr>\n",
       "    <tr>\n",
       "      <th>RandomForest</th>\n",
       "      <td>0.62</td>\n",
       "      <td>0.61</td>\n",
       "      <td>0.60</td>\n",
       "    </tr>\n",
       "    <tr>\n",
       "      <th>LogisticRegression</th>\n",
       "      <td>0.52</td>\n",
       "      <td>0.52</td>\n",
       "      <td>0.52</td>\n",
       "    </tr>\n",
       "  </tbody>\n",
       "</table>\n",
       "</div>"
      ],
      "text/plain": [
       "                    Class_weight  Upsampling  Downsampling\n",
       "DecisionTree                0.58        0.57          0.58\n",
       "RandomForest                0.62        0.61          0.60\n",
       "LogisticRegression          0.52        0.52          0.52"
      ]
     },
     "execution_count": 81,
     "metadata": {},
     "output_type": "execute_result"
    }
   ],
   "source": [
    "# сводная таблица f1-score по всем методам и моделям\n",
    "f1_score_diff_methods['Class_weight'] = pd.to_numeric(f1_score_diff_methods['Class_weight'])\n",
    "f1_score_diff_methods['Upsampling'] = pd.to_numeric(f1_score_diff_methods['Upsampling'])\n",
    "f1_score_diff_methods['Downsampling'] = pd.to_numeric(f1_score_diff_methods['Downsampling'])\n",
    "f1_score_diff_methods.round(2)"
   ]
  },
  {
   "cell_type": "markdown",
   "metadata": {},
   "source": [
    "Из сводной таблицы видно, что **лучшее значение f1-score у модели случайного леса с применением техники взвешивания классов**. Данная модель примерно в равной мере хорошо справляется как с распознанием положительного класс (клиент ушел их банка), так и с распознанием нулевого класса (клиент остался в банке). "
   ]
  },
  {
   "cell_type": "markdown",
   "metadata": {},
   "source": [
    "## Тестирование модели"
   ]
  },
  {
   "cell_type": "markdown",
   "metadata": {},
   "source": [
    "На валидационной выборке лучший результат показала **модель случайного леса со следующими гиперпараметрами: максимальная глубина дерева – 10, количество деревьев – 90**. Обучали модель с применением взвешивания классов."
   ]
  },
  {
   "cell_type": "code",
   "execution_count": 82,
   "metadata": {},
   "outputs": [
    {
     "data": {
      "text/plain": [
       "0.6177884615384616"
      ]
     },
     "execution_count": 82,
     "metadata": {},
     "output_type": "execute_result"
    }
   ],
   "source": [
    "model = RandomForestClassifier(random_state=42, n_estimators=90, max_depth=10, class_weight='balanced')\n",
    "model.fit(features_train_val, target_train_val) # обучение модели на объединенной выборке из train и validation\n",
    "predicted_test = model.predict(features_test)\n",
    "f1_score(target_test, predicted_test)"
   ]
  },
  {
   "cell_type": "code",
   "execution_count": 83,
   "metadata": {},
   "outputs": [
    {
     "data": {
      "image/png": "[encoded data removed]",
      "text/plain": [
       "<Figure size 432x288 with 2 Axes>"
      ]
     },
     "metadata": {
      "needs_background": "light"
     },
     "output_type": "display_data"
    }
   ],
   "source": [
    "# матрица ошибок\n",
    "cm = confusion_matrix(target_test, predicted_test)\n",
    "disp = ConfusionMatrixDisplay(cm, display_labels=['stay', 'left']).plot()"
   ]
  },
  {
   "cell_type": "code",
   "execution_count": 84,
   "metadata": {},
   "outputs": [
    {
     "name": "stdout",
     "output_type": "stream",
     "text": [
      "              precision    recall  f1-score   support\n",
      "\n",
      "        stay       0.90      0.89      0.90      1593\n",
      "        left       0.60      0.63      0.62       407\n",
      "\n",
      "    accuracy                           0.84      2000\n",
      "   macro avg       0.75      0.76      0.76      2000\n",
      "weighted avg       0.84      0.84      0.84      2000\n",
      "\n"
     ]
    }
   ],
   "source": [
    "# метрики модели\n",
    "print(classification_report(target_test, predicted_test, target_names=['stay', 'left']))"
   ]
  },
  {
   "cell_type": "code",
   "execution_count": 85,
   "metadata": {},
   "outputs": [
    {
     "data": {
      "image/png": "[encoded data removed]",
      "text/plain": [
       "<Figure size 432x288 with 1 Axes>"
      ]
     },
     "metadata": {
      "needs_background": "light"
     },
     "output_type": "display_data"
    }
   ],
   "source": [
    "# ROC-кривая модели\n",
    "probabilities_test = model.predict_proba(features_test)\n",
    "\n",
    "fpr, tpr, thresholds = roc_curve(target_test, probabilities_test[:, 1]) \n",
    "\n",
    "plt.figure()\n",
    "plt.plot(fpr, tpr)\n",
    "plt.plot([0, 1], [0, 1], linestyle='--')\n",
    "plt.xlim([0.0, 1.0]) \n",
    "plt.ylim([0.0, 1.0])\n",
    "plt.xlabel(\"False Positive Rate\") \n",
    "plt.ylabel(\"True Positive Rate\")\n",
    "plt.title(\"ROC-кривая\")\n",
    "plt.show()"
   ]
  },
  {
   "cell_type": "code",
   "execution_count": 86,
   "metadata": {
    "scrolled": true
   },
   "outputs": [
    {
     "data": {
      "text/plain": [
       "0.8628659476117103"
      ]
     },
     "execution_count": 86,
     "metadata": {},
     "output_type": "execute_result"
    }
   ],
   "source": [
    "roc_auc_score(target_test, probabilities_test[:, 1])"
   ]
  },
  {
   "cell_type": "markdown",
   "metadata": {},
   "source": [
    "**Вывод:**\n",
    "\n",
    "На тестовой выборке выбранная модель показала результат f1-score равный 0.62. \n",
    "\n",
    "Метрика AUC-ROC данной модели достигла значения 0.86."
   ]
  },
  {
   "cell_type": "markdown",
   "metadata": {},
   "source": [
    "## Общий вывод по проекту"
   ]
  },
  {
   "cell_type": "markdown",
   "metadata": {},
   "source": [
    "**В проекте велась работа с историческими данными о поведении клиентов и расторжении договоров с банком.** Каждый объект в наборе данных — это информация о поведении одного клиента. Были даны следующие параметры:\n",
    "- RowNumber — индекс строки в данных\n",
    "- CustomerId — уникальный идентификатор клиента\n",
    "- Surname — фамилия\n",
    "- CreditScore — кредитный рейтинг\n",
    "- Geography — страна проживания\n",
    "- Gender — пол\n",
    "- Age — возраст\n",
    "- Tenure — сколько лет человек является клиентом банка\n",
    "- Balance — баланс на счёте\n",
    "- NumOfProducts — количество продуктов банка, используемых клиентом\n",
    "- HasCrCard — наличие кредитной карты\n",
    "- IsActiveMember — активность клиента\n",
    "- EstimatedSalary — предполагаемая зарплата\n",
    "- Exited — факт ухода клиента (0 - клиент не ушел, 1 - клиент ушел)\n",
    "\n",
    "**Задача состояла в подборе наилучшей по значению f1-score модели для прогнозирования ухода клиента из банка в ближайшее время.** \n",
    "\n",
    "**Перед началом анализа данные были подготовлены:**\n",
    "- удалены незначимые признаки, т.е. те которые не влияют на таргет (индекс строки, идентификатор клиента, фамилия);\n",
    "- заполнены пропуски.\n",
    "- закодированы категориальных признаков (применялся one-hot encoding);\n",
    "- масштабированы количественных признаков;\n",
    "- исходные данные разделены на обучающую, валидационную и тестовую выборки.\n",
    "\n",
    "Мы попробовали 3 различные модели: дерево решений, случайный лес и логистическую регрессию. У каждой модели мы также меняли гиперпараметры, чтобы добиться наиболее высокой оценки качества. \n",
    "\n",
    "Обучение проводилось как на несбалансированных исходных данных, так и с применением различных методов борьбы с дисбалансом: взвешивание классов, upsampling и downsampling.\n",
    "\n",
    "**По результатам экспериментов на валидационной выборке лучший результат показала модель случайного леса со следующими гиперпараметрами: максимальная глубина дерева – 12, количество деревьев – 100. Такой результат был достигнут с применением метода взвешивания классов при обучении.**\n",
    "\n",
    "Затем модель с данными параметрами была обучена на объединенной выборке из обучающей и валидационной и проверена на тестовой выборке. \n",
    "\n",
    "**В результате итоговая метрика f1-score на тестовой выборке составляет 0.62. Метрика AUC-ROC равна 0.86, соответственно.**"
   ]
  }
 ],
 "metadata": {
  "kernelspec": {
   "display_name": "Python 3 (ipykernel)",
   "language": "python",
   "name": "python3"
  },
  "language_info": {
   "codemirror_mode": {
    "name": "ipython",
    "version": 3
   },
   "file_extension": ".py",
   "mimetype": "text/x-python",
   "name": "python",
   "nbconvert_exporter": "python",
   "pygments_lexer": "ipython3",
   "version": "3.9.12"
  },
  "toc": {
   "base_numbering": 1,
   "nav_menu": {},
   "number_sections": true,
   "sideBar": true,
   "skip_h1_title": true,
   "title_cell": "Содержание",
   "title_sidebar": "Contents",
   "toc_cell": true,
   "toc_position": {},
   "toc_section_display": true,
   "toc_window_display": true
  },
  "vscode": {
   "interpreter": {
    "hash": "aee8b7b246df8f9039afb4144a1f6fd8d2ca17a180786b69acc140d282b71a49"
   }
  }
 },
 "nbformat": 4,
 "nbformat_minor": 2
}
